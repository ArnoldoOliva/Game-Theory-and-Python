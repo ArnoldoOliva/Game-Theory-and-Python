{
 "cells": [
  {
   "cell_type": "markdown",
   "metadata": {},
   "source": [
    "# Game Theory and Python"
   ]
  },
  {
   "cell_type": "markdown",
   "metadata": {},
   "source": [
    "Preface\n",
    "-------"
   ]
  },
  {
   "cell_type": "markdown",
   "metadata": {},
   "source": [
    "This handbook is an introduction to studying Game Theory with Open Source Software.\n",
    "\n",
    "Game theory is concerned with conflicts, cooperation, and competition between individuals. It makes use of mathematical tools and logic, against stereotypes game theory is not only about numbers and payoffs.\n",
    "\n",
    "Game theory has grown into a complex and multi-branched subject over the years due to the applications it has offered into real world problems. It has provided scholars of mathematics, psychologist, politics, philosophy and mainly scholars of economics with a powerful tool for probing a wide variety of problems for their disciplines.\n",
    "\n",
    "There two main focus of study in Game Theory and there are various pieces of softwares each discipline:\n",
    "\n",
    "1. The study of what is called a Nash Equilibrium\n",
    "    - Gambit (a piece of software with a Python interface): http://gambit.sourceforge.net/\n",
    "    - Cloud.sagemath (using Sage). Documentation: https://doc.sagemath.org/html/en/reference/game_theory/index.html\n",
    "\n",
    "2. Iterated Games\n",
    "    - Axelrod Python library: https://github.com/Axelrod-Python/Axelrod\n",
    "\n",
    "In this workshop we will concern ourselves with the discipline of Iterated Games. Specifically, we will be using the Axelrod Python Library which will help us study an example known as the Iterated Prisoner's Dilemma (IPD).\n",
    "In the following sections, we will familiarize ourselves with the IPD and the library. Once we cover the basics\n",
    "we will try to dive a bit deeper in the library and the tournaments of the IPD."
   ]
  },
  {
   "cell_type": "markdown",
   "metadata": {},
   "source": [
    "Introduction to the IPD\n",
    "-----------------------"
   ]
  },
  {
   "cell_type": "markdown",
   "metadata": {},
   "source": [
    "The Prisoner's Dilemma is a two players game commonly studied in Game Theory. The story goes:\n",
    "\n",
    "There are two criminals and they are arrested by the police. The criminals are put in separate cells, thus there is no way of communication between them. Unfortunately for the police officer there are not enough evidence to convince the criminals for a serious crime but only for minor theft. The officer then thinks of a way to trick the two criminals. The rules are that if one of the criminal defects against their partner then he/she can walk away from the prison but the their partner will end up going for 5 months in prison. If both of the criminals defect against each other, they will both end up in prison for 3 months, where if they were to cooperate they will both end up in prison for a month.\n",
    "\n",
    "In game theory we represent such games using a matrix. Furthermore, instead of months in prison we will be using a positive payoff (a gain) for each of the actions. See below:\n",
    "\n",
    "    -------------------\n",
    "    | (3, 3) | (0, 5) |\n",
    "    |--------|--------|\n",
    "    | (5, 0) | (1, 1) |\n",
    "    -------------------\n",
    "\n",
    "Now let assume that the officer locks our two criminals back in prison and asks them the same question again the next day. Now let us assume that this is repeated for a given number of iterations. Then we have what is called the IPD.\n",
    "\n",
    "The Axelrod library is used to model the IPD. It manages to do so by creating a tournament where different strategies, sets of rules, (implemented within the library) compete in a round robin IPD tournament."
   ]
  },
  {
   "cell_type": "markdown",
   "metadata": {},
   "source": [
    "Installation\n",
    "------------"
   ]
  },
  {
   "cell_type": "markdown",
   "metadata": {},
   "source": [
    "First lets make sure that Python 3 in install in all the machines."
   ]
  },
  {
   "cell_type": "markdown",
   "metadata": {},
   "source": [
    "The simplest way to install the package is to obtain it from the PyPi repository:\n",
    "\n",
    "` $ pip install axelrod`"
   ]
  },
  {
   "cell_type": "markdown",
   "metadata": {},
   "source": [
    "Summary\n",
    "--------\n",
    "\n",
    "This section has discussed:\n",
    "\n",
    "- Introduction to the IPD\n",
    "- Installation of Axelrod library\n",
    "\n",
    "We will now move to the next section where we will look at matches and tournaments."
   ]
  }
 ],
 "metadata": {
  "anaconda-cloud": {},
  "kernelspec": {
   "display_name": "Python [default]",
   "language": "python",
   "name": "python3"
  },
  "language_info": {
   "codemirror_mode": {
    "name": "ipython",
    "version": 3
   },
   "file_extension": ".py",
   "mimetype": "text/x-python",
   "name": "python",
   "nbconvert_exporter": "python",
   "pygments_lexer": "ipython3",
   "version": "3.5.2"
  }
 },
 "nbformat": 4,
 "nbformat_minor": 2
}
